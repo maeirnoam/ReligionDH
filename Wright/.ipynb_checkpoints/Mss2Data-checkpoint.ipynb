{
 "cells": [
  {
   "cell_type": "code",
   "execution_count": 1,
   "metadata": {},
   "outputs": [],
   "source": [
    "import numpy as np\n",
    "import pandas as pd\n",
    "import re"
   ]
  },
  {
   "cell_type": "code",
   "execution_count": 2,
   "metadata": {},
   "outputs": [],
   "source": [
    "myfile = open('Add. 12155, new.txt', encoding = \"utf8\") #the txt is still partial."
   ]
  },
  {
   "cell_type": "code",
   "execution_count": 3,
   "metadata": {},
   "outputs": [],
   "source": [
    "florence_txt = myfile.read()"
   ]
  },
  {
   "cell_type": "code",
   "execution_count": null,
   "metadata": {},
   "outputs": [],
   "source": [
    "florence_txt"
   ]
  },
  {
   "cell_type": "code",
   "execution_count": 4,
   "metadata": {},
   "outputs": [],
   "source": [
    "sections = []\n",
    "section_pattern = re.compile(r'\\n[IVXL]{1,7}\\..*?(?=(\\n[IVXL]{1,7}\\.)|\\Z)', re.S|re.M|re.MULTILINE|re.DOTALL)\n",
    "for match in re.finditer(section_pattern, florence_txt):\n",
    "    sections.append(match.group())"
   ]
  },
  {
   "cell_type": "code",
   "execution_count": 5,
   "metadata": {},
   "outputs": [
    {
     "data": {
      "text/plain": [
       "2"
      ]
     },
     "execution_count": 5,
     "metadata": {},
     "output_type": "execute_result"
    }
   ],
   "source": [
    "len(sections)"
   ]
  },
  {
   "cell_type": "code",
   "execution_count": null,
   "metadata": {},
   "outputs": [],
   "source": [
    "sections[0]"
   ]
  },
  {
   "cell_type": "code",
   "execution_count": 6,
   "metadata": {},
   "outputs": [],
   "source": [
    "first_section_items =[]\n",
    "item_pattern = re.compile(r'\\n\\d+\\..*?(?=(\\n\\d+\\.)|\\Z)', re.S|re.MULTILINE|re.DOTALL)\n",
    "for match in re.finditer(item_pattern, sections[0]):\n",
    "    first_section_items.append(match.group())"
   ]
  },
  {
   "cell_type": "code",
   "execution_count": 7,
   "metadata": {},
   "outputs": [
    {
     "data": {
      "text/plain": [
       "15"
      ]
     },
     "execution_count": 7,
     "metadata": {},
     "output_type": "execute_result"
    }
   ],
   "source": [
    "len(first_section_items)"
   ]
  },
  {
   "cell_type": "code",
   "execution_count": 8,
   "metadata": {},
   "outputs": [
    {
     "data": {
      "text/plain": [
       "'\\n13.\\nSeverus* of Antioch: hom. epithron. xxi., fol. 18 a, xlii., fol. 13 b, lxvii., fol. 21 a, lxx., fol. 14 b, xc. fol. 9 a, cix., fol. 24 b, cxix., fol. 7 a, cxxiii., fol. 26 b ; ܐܪܡܐܡ ܠܒܩܘܠܕ ܣܘܩܝܛܡܪܓ , i.e. Joannes Grammaticus of Caesarea, foll. 12 b, 14 b, 15 a and b, 16 a, 19 b, 20 a, 24 a, 25 a and b, 26 a and b, 27 a and b, 28 b, 30 b; ܐܪܡܐܡ ܩܘܠܕܒܠ ܣܘܬܦܗܬ ܠܘܝܕܢܝܐ , foll. 12 b, 24 a;\\n, ܐܪܡܐܡ ܐܝܡܕܩ ܠܒܩܘܠܕܣܘܡܝܣܝܩܝܠܝܦ\\nfol. 27 a; ܢܡ ܢܝܠܗ ܢܒܬܟܡܕ ܗܠܠܒܩܘܠ ܠܐܕܣܟܢܣܘܪܕ (κωδίκελλοι) ܩܕܘܠܩܘ , fol. 8 a ; ܡܢ ܐܬܪܓܐ ܬܘܠܕ ܣܘܝܢܣܘܠܐ , fol. 4 a, marg.; ܢܡ ܐܬܪܓܐ ܬܘܠܕ ܣܘܝܣܟܪܦܘܐ . ܝܗܘܬܝܐܕ ܗܫܝܪ . ܬܢܐ ܡܢ ܕܟ ܐܒܘܚܒ ܐܝܗܠܐ ܥܝܠܒ ܬܢܐ . , foll. 8 b, 13 b; . ܢܡ ܐܬܪܓܐ ܬܘܠܕ ܢܘܪܡ ܝܗ ܗܝܪܘܫܕ ܕܟ ܢܡܥܢ ܘܗ ܐܝܝܪܘܣ , fol. 11 b, 15 b; . ܡ ܢܐܬܪܓܐ ܬܘܠܕ ܐܪܘܕܝܣܝܐ ܣܝܡܘܩ ܗܫܝܪܕ . ܡܢ ܝܬܟܒܐܬ ܬܘܝܐܦܕ ܟܬܘܒܪ ܬܠܚܕ ܐܗܠܐܠ ܬܡܚܪܘ ܦܠܘܝܢܐ , foll. 14 a, 27 b ; ܡܢ ܐܬܪܓܐ ܬܘܠܕ ܢܢܚܘܝ ܢܢܚܘܝܘ\\n\\nܐܪܕܘܐܬܘ ܐܫܝܫܩ ܝܫܝܪܘ ܐܬܪܝܕ . ܫܝܪܕܗ.\\nܡܢ ܪܬܒ ܬܒܬܟܕ ܬܘܠ ܢܝܠܗ ܡܕܩܕ ܬܫܐܚܠ ܢܡ\\nܕܩܝܢܘܟܬܘܫ , foll. 14 b, 23 b, 27 b, 32 a; ܢܡ ܐܬܪܓܐ ܬܘܠܕ ܐܢܝܛܢܛܣܘܩ ܐܦܘܩܣܝܦܐ ܐܝܩܘܠܣܕ ܐܝܪܘܣܝܐܕ . ܗܫܝܪܕ . ܠܗܝܢ ܡܕܢ ܢܘܟܬܘܝܣܚ ܡܢ ܡܝܕܩ ܠܬܫܐܚ ܝܠ, fol. 15 a; ܡܢ ܐܬܪܓܐ ܬܘܠܕ ܪܘܛܩܝܒ ܐܫܝܫܩ . ܗܫܝܪܕ . ܬܝܐܝܢܗ ܬܠܒܩ ܐܬܪܓܐܚܕ ܟܬܡܟ\\nܪܚܬܡ ܐܗܠܐ , fol. 21 a ; ܢܡ ܐܬܪܓܐ ܐܬܝܡܕܩ ܬܘܠܕ ܣܝܓܪܣ ܣܘܩܛܡܪܓ , fol.\\n24 a, ܡܢ ܐܬܪܓܐ ܒܕ , fol. 23 b, ܡܢ ܐܬܪܓܐ ܓܕ , fol. 30 a; ܡܢ ܐܬܪܓܐ ܬܘܠܕ ܣܘܡܝܣ ܗܫܝܪܕ . ܘܠܐ ܐܠ (σκρινιάριος) . ܐܪܢܪܩܣܐ\\nܐܒܘܚ ܡܕܡ ܣܐܐܝܓ ܬܝܐ ܐܘܗ ܠ\\nܟܬܘܚܝܨܢܕ ܬܡܚܪ ܐܚܝܫܡ , foll. 23 b, 25 b;\\nܢܡ ܐܬܪܓܐ ܬܘܠܕ ܒܣܘܐ ܐܩܝܬܣܠܘܟܣ .\\n, ܗܫܪܕ . ܕܟ ܬܟܦܗܐ ܝܠܥ ܕܝܒ ܟܬܪܓܐ\\nfol. 30 a.'"
      ]
     },
     "execution_count": 8,
     "metadata": {},
     "output_type": "execute_result"
    }
   ],
   "source": [
    "first_section_items[12]"
   ]
  },
  {
   "cell_type": "code",
   "execution_count": 9,
   "metadata": {},
   "outputs": [
    {
     "name": "stdout",
     "output_type": "stream",
     "text": [
      "the name of the author is: Severus* of Antioch\n",
      "item number: 13\n",
      "works: \n",
      "hom. epithron. xxi., fol. 18 a, xlii., fol. 13 b, lxvii., fol. 21 a, lxx., fol. 14 b, xc. fol. 9 a, cix., fol. 24 b, cxix., fol. 7 a, cxxiii., fol. 26 b ; ܐܪܡܐܡ ܠܒܩܘܠܕ ܣܘܩܝܛܡܪܓ , i.e. Joannes Grammaticus of Caesarea, foll. 12 b, 14 b, 15 a and b, 16 a, 19 b, 20 a, 24 a, 25 a and b, 26 a and b, 27 a and b, 28 b, 30 b; ܐܪܡܐܡ ܩܘܠܕܒܠ ܣܘܬܦܗܬ ܠܘܝܕܢܝܐ , foll. 12 b, 24 a; , ܐܪܡܐܡ ܐܝܡܕܩ ܠܒܩܘܠܕܣܘܡܝܣܝܩܝܠܝܦ fol. 27 a; ܢܡ ܢܝܠܗ ܢܒܬܟܡܕ ܗܠܠܒܩܘܠ ܠܐܕܣܟܢܣܘܪܕ (κωδίκελλοι) ܩܕܘܠܩܘ , fol. 8 a ; ܡܢ ܐܬܪܓܐ ܬܘܠܕ ܣܘܝܢܣܘܠܐ , fol. 4 a, marg.; ܢܡ ܐܬܪܓܐ ܬܘܠܕ ܣܘܝܣܟܪܦܘܐ . ܝܗܘܬܝܐܕ ܗܫܝܪ . ܬܢܐ ܡܢ ܕܟ ܐܒܘܚܒ ܐܝܗܠܐ ܥܝܠܒ ܬܢܐ . , foll. 8 b, 13 b; . ܢܡ ܐܬܪܓܐ ܬܘܠܕ ܢܘܪܡ ܝܗ ܗܝܪܘܫܕ ܕܟ ܢܡܥܢ ܘܗ ܐܝܝܪܘܣ , fol. 11 b, 15 b; . ܡ ܢܐܬܪܓܐ ܬܘܠܕ ܐܪܘܕܝܣܝܐ ܣܝܡܘܩ ܗܫܝܪܕ . ܡܢ ܝܬܟܒܐܬ ܬܘܝܐܦܕ ܟܬܘܒܪ ܬܠܚܕ ܐܗܠܐܠ ܬܡܚܪܘ ܦܠܘܝܢܐ , foll. 14 a, 27 b ; ܡܢ ܐܬܪܓܐ ܬܘܠܕ ܢܢܚܘܝ ܢܢܚܘܝܘ  ܐܪܕܘܐܬܘ ܐܫܝܫܩ ܝܫܝܪܘ ܐܬܪܝܕ . ܫܝܪܕܗ. ܡܢ ܪܬܒ ܬܒܬܟܕ ܬܘܠ ܢܝܠܗ ܡܕܩܕ ܬܫܐܚܠ ܢܡ ܕܩܝܢܘܟܬܘܫ , foll. 14 b, 23 b, 27 b, 32 a; ܢܡ ܐܬܪܓܐ ܬܘܠܕ ܐܢܝܛܢܛܣܘܩ ܐܦܘܩܣܝܦܐ ܐܝܩܘܠܣܕ ܐܝܪܘܣܝܐܕ . ܗܫܝܪܕ . ܠܗܝܢ ܡܕܢ ܢܘܟܬܘܝܣܚ ܡܢ ܡܝܕܩ ܠܬܫܐܚ ܝܠ, fol. 15 a; ܡܢ ܐܬܪܓܐ ܬܘܠܕ ܪܘܛܩܝܒ ܐܫܝܫܩ . ܗܫܝܪܕ . ܬܝܐܝܢܗ ܬܠܒܩ ܐܬܪܓܐܚܕ ܟܬܡܟ ܪܚܬܡ ܐܗܠܐ , fol. 21 a ; ܢܡ ܐܬܪܓܐ ܐܬܝܡܕܩ ܬܘܠܕ ܣܝܓܪܣ ܣܘܩܛܡܪܓ , fol. 24 a, ܡܢ ܐܬܪܓܐ ܒܕ , fol. 23 b, ܡܢ ܐܬܪܓܐ ܓܕ , fol. 30 a; ܡܢ ܐܬܪܓܐ ܬܘܠܕ ܣܘܡܝܣ ܗܫܝܪܕ . ܘܠܐ ܐܠ (σκρινιάριος) . ܐܪܢܪܩܣܐ ܐܒܘܚ ܡܕܡ ܣܐܐܝܓ ܬܝܐ ܐܘܗ ܠ ܟܬܘܚܝܨܢܕ ܬܡܚܪ ܐܚܝܫܡ , foll. 23 b, 25 b; ܢܡ ܐܬܪܓܐ ܬܘܠܕ ܒܣܘܐ ܐܩܝܬܣܠܘܟܣ . , ܗܫܪܕ . ܕܟ ܬܟܦܗܐ ܝܠܥ ܕܝܒ ܟܬܪܓܐ fol. 30 a.\n"
     ]
    }
   ],
   "source": [
    "item_1 = first_section_items[12].split(\":\", 1)\n",
    "number_author=item_1[0].split(\".\")\n",
    "number = number_author[0].strip()\n",
    "author = number_author[1].strip()\n",
    "works=item_1[1].replace('\\n',' ').lstrip(' ')\n",
    "works.strip()\n",
    "print(\"the name of the author is: \"+ author +\"\\nitem number: \" + number + \"\\nworks: \\n\" +works)"
   ]
  },
  {
   "cell_type": "code",
   "execution_count": 10,
   "metadata": {},
   "outputs": [
    {
     "data": {
      "text/plain": [
       "['hom. epithron. xxi., fol. 18 a, xlii., fol. 13 b, lxvii., fol. 21 a, lxx., fol. 14 b, xc. fol. 9 a, cix., fol. 24 b, cxix., fol. 7 a, cxxiii., fol. 26 b ',\n",
       " ' ܐܪܡܐܡ ܠܒܩܘܠܕ ܣܘܩܝܛܡܪܓ , i.e. Joannes Grammaticus of Caesarea, foll. 12 b, 14 b, 15 a and b, 16 a, 19 b, 20 a, 24 a, 25 a and b, 26 a and b, 27 a and b, 28 b, 30 b',\n",
       " ' ܐܪܡܐܡ ܩܘܠܕܒܠ ܣܘܬܦܗܬ ܠܘܝܕܢܝܐ , foll. 12 b, 24 a',\n",
       " ' , ܐܪܡܐܡ ܐܝܡܕܩ ܠܒܩܘܠܕܣܘܡܝܣܝܩܝܠܝܦ fol. 27 a',\n",
       " ' ܢܡ ܢܝܠܗ ܢܒܬܟܡܕ ܗܠܠܒܩܘܠ ܠܐܕܣܟܢܣܘܪܕ (κωδίκελλοι) ܩܕܘܠܩܘ , fol. 8 a ',\n",
       " ' ܡܢ ܐܬܪܓܐ ܬܘܠܕ ܣܘܝܢܣܘܠܐ , fol. 4 a, marg.',\n",
       " ' ܢܡ ܐܬܪܓܐ ܬܘܠܕ ܣܘܝܣܟܪܦܘܐ . ܝܗܘܬܝܐܕ ܗܫܝܪ . ܬܢܐ ܡܢ ܕܟ ܐܒܘܚܒ ܐܝܗܠܐ ܥܝܠܒ ܬܢܐ . , foll. 8 b, 13 b',\n",
       " ' . ܢܡ ܐܬܪܓܐ ܬܘܠܕ ܢܘܪܡ ܝܗ ܗܝܪܘܫܕ ܕܟ ܢܡܥܢ ܘܗ ܐܝܝܪܘܣ , fol. 11 b, 15 b',\n",
       " ' . ܡ ܢܐܬܪܓܐ ܬܘܠܕ ܐܪܘܕܝܣܝܐ ܣܝܡܘܩ ܗܫܝܪܕ . ܡܢ ܝܬܟܒܐܬ ܬܘܝܐܦܕ ܟܬܘܒܪ ܬܠܚܕ ܐܗܠܐܠ ܬܡܚܪܘ ܦܠܘܝܢܐ , foll. 14 a, 27 b ',\n",
       " ' ܡܢ ܐܬܪܓܐ ܬܘܠܕ ܢܢܚܘܝ ܢܢܚܘܝܘ  ܐܪܕܘܐܬܘ ܐܫܝܫܩ ܝܫܝܪܘ ܐܬܪܝܕ . ܫܝܪܕܗ. ܡܢ ܪܬܒ ܬܒܬܟܕ ܬܘܠ ܢܝܠܗ ܡܕܩܕ ܬܫܐܚܠ ܢܡ ܕܩܝܢܘܟܬܘܫ , foll. 14 b, 23 b, 27 b, 32 a',\n",
       " ' ܢܡ ܐܬܪܓܐ ܬܘܠܕ ܐܢܝܛܢܛܣܘܩ ܐܦܘܩܣܝܦܐ ܐܝܩܘܠܣܕ ܐܝܪܘܣܝܐܕ . ܗܫܝܪܕ . ܠܗܝܢ ܡܕܢ ܢܘܟܬܘܝܣܚ ܡܢ ܡܝܕܩ ܠܬܫܐܚ ܝܠ, fol. 15 a',\n",
       " ' ܡܢ ܐܬܪܓܐ ܬܘܠܕ ܪܘܛܩܝܒ ܐܫܝܫܩ . ܗܫܝܪܕ . ܬܝܐܝܢܗ ܬܠܒܩ ܐܬܪܓܐܚܕ ܟܬܡܟ ܪܚܬܡ ܐܗܠܐ , fol. 21 a ',\n",
       " ' ܢܡ ܐܬܪܓܐ ܐܬܝܡܕܩ ܬܘܠܕ ܣܝܓܪܣ ܣܘܩܛܡܪܓ , fol. 24 a, ܡܢ ܐܬܪܓܐ ܒܕ , fol. 23 b, ܡܢ ܐܬܪܓܐ ܓܕ , fol. 30 a',\n",
       " ' ܡܢ ܐܬܪܓܐ ܬܘܠܕ ܣܘܡܝܣ ܗܫܝܪܕ . ܘܠܐ ܐܠ (σκρινιάριος) . ܐܪܢܪܩܣܐ ܐܒܘܚ ܡܕܡ ܣܐܐܝܓ ܬܝܐ ܐܘܗ ܠ ܟܬܘܚܝܨܢܕ ܬܡܚܪ ܐܚܝܫܡ , foll. 23 b, 25 b',\n",
       " ' ܢܡ ܐܬܪܓܐ ܬܘܠܕ ܒܣܘܐ ܐܩܝܬܣܠܘܟܣ . , ܗܫܪܕ . ܕܟ ܬܟܦܗܐ ܝܠܥ ܕܝܒ ܟܬܪܓܐ fol. 30 a.']"
      ]
     },
     "execution_count": 10,
     "metadata": {},
     "output_type": "execute_result"
    }
   ],
   "source": [
    "author_texts = works.split(\";\")\n",
    "author_texts"
   ]
  },
  {
   "cell_type": "code",
   "execution_count": 11,
   "metadata": {},
   "outputs": [
    {
     "name": "stdout",
     "output_type": "stream",
     "text": [
      "18 a, xlii.,\n",
      "12 b, 14 b, 15 a and b, 16 a, 19 b, 20 a, 24 a, 25 a and b, 26 a and b, 27 a and b, 28 b, 30 b\n",
      "12 b, 24 a\n",
      "27 a\n",
      "8 a\n",
      "4 a, marg.\n",
      "8 b, 13 b\n",
      "11 b, 15 b\n",
      "14 a, 27 b\n",
      "14 b, 23 b, 27 b, 32 a\n",
      "15 a\n",
      "21 a\n",
      "24 a, ܡܢ ܐܬܪܓܐ ܒܕ ,\n",
      "23 b, 25 b\n",
      "30 a.\n"
     ]
    }
   ],
   "source": [
    "texts = {}\n",
    "short_folios = re.compile(r'(\\bfol[l.]+)', re.S|re.MULTILINE|re.DOTALL)\n",
    "long_folios = re.compile(r'(fol.?)([ 0-9abdn,]*)', re.S|re.MULTILINE|re.DOTALL)\n",
    "title_first = re.compile(r\"\"\"(.*?\\,)?  \n",
    "                             \\s*\n",
    "                             (fol[l.]+)\n",
    "                             \\s*\n",
    "                             ([0-9]+)\n",
    "                             \\s*             \n",
    "                             ([ab]+)   \n",
    "                                 .*? \n",
    "                                 (?=(\\,\\s*(fol[l.]+\\s*)?[0-9]+)|\\Z)\n",
    "                             \"\"\", re.S|re.MULTILINE|re.DOTALL|re.VERBOSE)\n",
    "for text in author_texts:\n",
    "    foll = re.search(short_folios, text).group()\n",
    "    if text.startswith(\"fol\"): #this means that the folioation is first and then the title\n",
    "        folios = re.search(long_folios, text).group()\n",
    "        title = text.strip(folios)\n",
    "        texts.update({title : folios.strip(foll)})    \n",
    "    else: # the order is title then folios\n",
    "        title=text.split(foll)[0].strip()\n",
    "        folios=text.split(foll)[1].strip()\n",
    "        texts.update({title : folios})\n",
    "        \n",
    "        \n",
    "for x, y in texts.items():\n",
    "      print(y)\n",
    "    \n",
    "    \n",
    "\n"
   ]
  },
  {
   "cell_type": "code",
   "execution_count": 13,
   "metadata": {},
   "outputs": [
    {
     "name": "stdout",
     "output_type": "stream",
     "text": [
      "['18 a, xlii.,']\n",
      "['12 b', ' 14 b', ' 15 a ', '15 b', ' 16 a', ' 19 b', ' 20 a', ' 24 a', ' 25 a ', '25 b', ' 26 a ', '26 b', ' 27 a ', '27 b', ' 28 b', ' 30 b']\n",
      "['12 b', ' 24 a']\n",
      "['27 a']\n",
      "['8 a']\n",
      "['4 a, marg.']\n",
      "['8 b', ' 13 b']\n",
      "['11 b', ' 15 b']\n",
      "['14 a', ' 27 b']\n",
      "['14 b', ' 23 b', ' 27 b', ' 32 a']\n",
      "['15 a']\n",
      "['21 a']\n",
      "['24 a, ܡܢ ܐܬܪܓܐ ܒܕ ,']\n",
      "['23 b', ' 25 b']\n",
      "['30 a.']\n"
     ]
    }
   ],
   "source": [
    "texts = {}\n",
    "short_folios = re.compile(r'(\\bfol[l.]+)', re.S|re.MULTILINE|re.DOTALL)\n",
    "long_folios = re.compile(r'(fol.?)([ 0-9abdn,]*)', re.S|re.MULTILINE|re.DOTALL)\n",
    "for text in author_texts:\n",
    "    foll = re.search(short_folios, text).group()\n",
    "    if text.startswith(\"fol\"): #this means that the folioation is first and then the title\n",
    "        folios = re.search(long_folios, text).group()\n",
    "        title = text.strip(folios)\n",
    "        texts.update({title : folios.strip(foll)})    \n",
    "    else: # the order is title then folios\n",
    "        title=text.split(foll)[0].strip()\n",
    "        folios=text.split(foll)[1].strip()\n",
    "        texts.update({title : folios})\n",
    "    \n",
    "folios_pattern1 = re.compile(r\"\"\"\\s*             \n",
    "                                 ([0-9]+)\\s*([ab]+)   \n",
    "                                 .*? \n",
    "                                 (?=(\\,\\s*(fol[l.]+\\s*)?[0-9]+)|\\Z)\"\"\", re.VERBOSE|re.S|re.MULTILINE|re.DOTALL|re.X)\n",
    "\n",
    "for x, y in texts.items():\n",
    "        folios_of_text = []\n",
    "        iter = re.finditer(folios_pattern1, y)\n",
    "        for match in iter:\n",
    "            if \"and b\" in match.group(0):\n",
    "                repl = \"split\" + match.group(1) +\" b\"\n",
    "                temp = re.sub(\"and b\", repl, match.group(0))\n",
    "                temp = re.split(\"split\", temp)\n",
    "                folios_of_text.append(temp[0])\n",
    "                folios_of_text.append(temp[1])\n",
    "            else:\n",
    "                folios_of_text.append(match.group(0))\n",
    "        texts[x] = folios_of_text\n",
    "\n",
    "for x, y in texts.items():\n",
    "     print(y)\n",
    "        \n",
    "      \n",
    "    \n"
   ]
  },
  {
   "cell_type": "code",
   "execution_count": null,
   "metadata": {
    "scrolled": false
   },
   "outputs": [],
   "source": [
    "text_folios= {} #need to figure out what datastructure to insert into\n",
    "folios_pattern1 = re.compile(r\"\"\"\n",
    "\\s*             \n",
    "([0-9]+)   \n",
    "\\s*\n",
    "([ab]+)\n",
    "\\s*\n",
    "(and b)?\n",
    "\\s*\n",
    "([(].*?[)])?\n",
    "\\s*\n",
    "(and b)?\n",
    "\\s*\n",
    "([(].*?[)])?\n",
    "\\s*\n",
    "(?=\\,|\\.|\\Z)\n",
    "\"\"\", re.VERBOSE|re.S|re.MULTILINE|re.DOTALL)\n",
    "for x, y in texts.items():\n",
    "    folios_of_text = []\n",
    "    iter = re.finditer(folios_pattern1, y)\n",
    "    for match in iter:\n",
    "        #print(x)\n",
    "        #print(match.group(0))\n",
    "        folios_of_text.append(match.group(0))\n",
    "    text_folios.update({x: folios_of_text})    \n",
    "    \n",
    "        \n",
    "\n",
    "    \n",
    "for text in text_folios:\n",
    "    for folios in text_folios[text]:\n",
    "        print(text+\": \\n\"+folios)\n",
    "    \n",
    "    \n"
   ]
  },
  {
   "cell_type": "code",
   "execution_count": null,
   "metadata": {},
   "outputs": [],
   "source": [
    "only_folios_pattern = re.compile(r'(\\s*([0-9]+)\\s*([ abnd]+)\\s*[.,]*)+', re.VERBOSE|re.S|re.MULTILINE|re.DOTALL) \n",
    "pagination_pattern = re.compile(r'([0-9]+)\\s*([ab]+)\\s*', re.VERBOSE|re.S|re.MULTILINE|re.DOTALL)\n",
    "for text in (author_)texts:\n",
    "    if not re.fullmatch(only_folios_pattern, text): #this means that there is a subtitle situation\n",
    "        if text.endswith(pagination_pattern): #subtitle first situation\n",
    "            #deal with first title + subtitle sequence. maybe subtract length of average other subtitles from the first\n",
    "            #deal with foll. variance\n",
    "            #and\n",
    "        else: #subtitle last situation\n",
    "            #pull out and store title, then \n",
    "            #foll. variance\n",
    "            #and\n",
    "    \n",
    "    else: #no special care, just unpack list of folios\n",
    "        \n",
    "\n",
    "        \n",
    "        subtitle_first = re.compile(r'''\n",
    "                                (.*?\\,)?  \n",
    "                             \\s*\n",
    "                             (fol[l.]+)\n",
    "                             \\s*\n",
    "                             ([0-9]+)\n",
    "                             \\s*             \n",
    "                             ([ab]+)   \n",
    "                                 .*? \n",
    "                                 (?=(\\,\\s*(fol[l.]+\\s*)?[0-9]+)|\\Z)\n",
    "                                ''', re.VERBOSE|re.S|re.MULTILINE|re.DOTALL)\n",
    "\n",
    "subtitle_last = re.compile(r'''\n",
    "                                (.*?\\,)?  \n",
    "                             \\s*\n",
    "                             (fol[l.]+)\n",
    "                             \\s*\n",
    "                             ([0-9]+)\n",
    "                             \\s*             \n",
    "                             ([ab]+)   \n",
    "                                 .*? \n",
    "                                 (?=(\\,\\s*(fol[l.]+\\s*)?[0-9]+)|\\Z)\n",
    "                                ''', re.VERBOSE|re.S|re.MULTILINE|re.DOTALL)"
   ]
  },
  {
   "cell_type": "code",
   "execution_count": null,
   "metadata": {},
   "outputs": [],
   "source": [
    "myfile.close()"
   ]
  },
  {
   "cell_type": "code",
   "execution_count": null,
   "metadata": {},
   "outputs": [],
   "source": [
    "catalog_columns = [\"MS\", \"section\", \"item\", \"author\", \"text\", \"folios\", \"comments\"]\n",
    "for ms in catalog:\n",
    "    "
   ]
  },
  {
   "cell_type": "code",
   "execution_count": null,
   "metadata": {},
   "outputs": [],
   "source": []
  },
  {
   "cell_type": "code",
   "execution_count": null,
   "metadata": {},
   "outputs": [],
   "source": []
  },
  {
   "cell_type": "code",
   "execution_count": null,
   "metadata": {},
   "outputs": [],
   "source": []
  }
 ],
 "metadata": {
  "kernelspec": {
   "display_name": "Python 3",
   "language": "python",
   "name": "python3"
  },
  "language_info": {
   "codemirror_mode": {
    "name": "ipython",
    "version": 3
   },
   "file_extension": ".py",
   "mimetype": "text/x-python",
   "name": "python",
   "nbconvert_exporter": "python",
   "pygments_lexer": "ipython3",
   "version": "3.7.0"
  }
 },
 "nbformat": 4,
 "nbformat_minor": 2
}
