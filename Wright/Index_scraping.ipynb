{
 "cells": [
  {
   "cell_type": "code",
   "execution_count": 1,
   "metadata": {},
   "outputs": [],
   "source": [
    "import pandas as pd\n",
    "import re"
   ]
  },
  {
   "cell_type": "code",
   "execution_count": 2,
   "metadata": {},
   "outputs": [],
   "source": [
    "text_file = open(\"Wright General Index.txt\", \"r\", encoding='utf-8')\n",
    "index_text = text_file.read()"
   ]
  },
  {
   "cell_type": "code",
   "execution_count": 11,
   "metadata": {},
   "outputs": [
    {
     "data": {
      "text/plain": [
       "45803"
      ]
     },
     "execution_count": 11,
     "metadata": {},
     "output_type": "execute_result"
    }
   ],
   "source": [
    "index_text.find(\"Basil, bp. of Samosata\")"
   ]
  },
  {
   "cell_type": "code",
   "execution_count": 15,
   "metadata": {},
   "outputs": [
    {
     "data": {
      "text/plain": [
       "'Basil of Caesarea ; works, dxlvi. ; dl. ; dli. ; dccxxxii. ; \\ndccxev. 5 ; three ascetic discourses, dcccxii. 7 ; \\nhomm. in Hexaemeron, p. 416, c. 2; horn, on \\nDeut. XV. 9, dl. 1 ; dccxxviii. 2 ; dccxiii. 3 d \\ndccliii, 14 ; dcclvii. 1 ; dcclxx. 2 ; dccxev. 5 b \\non Ps. i, dl. 9 ; dccliii. 18 a ; dccxev. 5 f \\nextracts, pp. 35, c. 2 ; 36, c. 2 ; dcclii. 19 ; in \\nprincipium Proverb., dli. 1 ; on 1 Thessal. v. 16 — \\n18,dcclxiii. 7 a; treatise on the holy Spirit,dxlvi. 2; \\ndxlvii. ; dl. 4 ; extracts, dccclxiv. 5 ; glosses on, \\ndliv.; against Eunomius, bks i. — iii., dxlviii. ; bk. \\nii. (fr.), dxlix, ; hom. on anger, dl. 6 ; dccxxxii. \\n1 b; dccxxxvii. 7 b; dccliii. 18 d; dcclxx. 11 c; \\nextract, dcclxii. 14 ; on avarice, dccxev. 13 ; on \\nbaptism, dl. 2 ; part of the hom. \" in ebriosos,\" \\ndli. 2 ; on envy, dccxxxii. 1 c ; dccliii. 18 e ; two \\nhomm. on faith, dxlvi. 3, 4 ; dl. 7, 8 ; second \\nhom., dccliii. 18 b; funeral sermon on a child, \\nccccli. 9 6, y ; dcclxiii. 7 6 ; that God is not the \\ncause of evils, dccxxxii. 1 e; dccxiii. 3 b; dccliii. \\n18 c; dccxev. 5 c; against those who imagine \\nthat there are three Gods, dcclxiii. 4; dcclxviii. \\n12; three homm. on Lent, dccxxxii. 1 a; dccxiii. \\n3 a; dccxev. 5 d, e, g; frr. of two homm., cccviii. \\n11 ; the first hom., dl. 5 ; dcccxxv. 16 ; the \\nsecond, cccvi. 11 ; dcccxxv. 20 ; on the martyrs, \\ndccxxxii. 1/; on the observance of the commands \\n\\n\\n\\nof the Gospel, dcclxxxv. viii. 6 ; on poverty (in \\ndivites), dccxxxvii. 7 a ; on the study of the \\nwritings of the (Greek) philosophers (ad ado- \\nlescentes), dl. 3 ; dccxxxii. \\\\ d.; on tempe- \\nrance and purity, dccxcvii. 7 o ; on virginity, \\ndcclxix. 3 ; on usury, dli. 3 ; dccxiii. 3 c ; on the \\nworld, Karth., E.F. codd. Carsh, iv. 2. ; treatise \\non virtue, dcccxxiv. 4 ; regulse monasticae, dlii. ; \\ndliii.; prooemium to the \" regute fusius tractatffi,\\' \\ndccxev. 5 a ; extract from the \" regulae f. tr.\", \\ndcclxxxi. 10 a ; to those who are entering on the \\nmonastic life (de ascetica disciplina), dcclx. 2; \\ndcclxx. 4 b ; dcclxxxi. 13 ; dccc. 8 ; dcccxii. 3 ; \\ndcccxxii. 26; dccccxxix. 2; question and answer, \\n. p. 222, c. 2 ; B. and Gregory Naz., questions and \\nanswers, dcclxxxii. ; dcccix. ; letter to the recluses, \\nE.r. xiix. 30; dccxxxii. 4 c; dccliii. 18/; \\ndcclxxxi. 10 b; dccxcvii. 7 c; two letters to a \\nfallen virgin, dccxxxii. 4: a,b; dccxlvii. 4 a, J ; \\ndcclxx. 11 a, 6; one letter, fr., dccxev. 20; select \\nletters of B. and Gregory Naz., dlvi. ii. ; \\ndccxxxii. 2; vocalisation of difficult words, clxvii. \\n2 e; to his brother Gregory, E.F. xlix. 31; \\ndccxxvii. 7 a; dccxiii. 3 e; dcclxx. 4 a; \\ndcclxxxix. 7 ; dccxcvii. 7 b ; dcccxxii. 2a; \\nextracts, E.F. xlix. 32; dccci. 5; life of Eva- \\ngrius, wrongly ascribed to B., dccxxvii. 1 d; \\nliturgy, ccxcvi. 1 b ; benediction of the chalice, \\ncclxxxvii. 1 t ; ccxcix. 1 ; order of Baptism, \\nccxcvi. 4 b ; prayers, ccxvii. , 5 ; ccxviii. 5 ; \\ncclxxxv. 7 ; diii. 2 ; extracts, dccxxvii. 7ft; \\ndcclxxxv. VIII.; dccxciii. 8, 10; dcccvi. 3; \\ndcccxii. 14 ; dcccxviii. 5 ; dcccxxxvii. 27 ; \\ndcccxlix. 3 ; dccclvii. xxxi. ; dccclxi. 10, 1.5, 17, \\n30, 31, 59, 70, 109, 125 ; dccclxiv. 5, 7, 42, 56 ; \\ncited, pp. 79, c. 1 ; 528, c. 1 ; 549, c. 2 ; 551, \\nc. 2 ; 553, c. 2; 555, c. 1 ; 558, c. 1 ; 639, c. 1 ; \\n641, cc. 1, 2; 645, c. 2; 646, cc. 1, 2; 699, \\nc. 1 ; 730, c. 1; 742, c. 2; 755, c. 2; 796, c. 2; \\n798, c. 2 ; 824, c. 2 ; 836, c. 1 ; 854, c. 2 ; 892, \\nc. 2; 906, cc. 1, 2; 907, cc. 1, 2; 909, c. 1 ; \\n915, c. 2; 918, c. 2; 921, c. 2; 924, c. 1 ; 926, \\nc. 2; 928, c. 1 ; 930, c. 2; 933, c. 2; 936, c. 2; \\n937, c. 1 ; 939, cc. 1, 2 ; 941, c. 2; 942, c. 1 ; \\n944, cc. 1, 2 ; 946, c. 1 ; 952, c. 2 ; 953, c. 1 ; \\n954, cc. 1, 2; 955, c. 1 ; 956, c. 1; 958, c. 2; \\n961, c. 2; 965, cc. 1, 2 ; 966, c. 2 ; 969, cc. 1, \\n2 ; 970, c. 2 ; 971, c. 2 ; 972, cc. 1, 2 ; 973, \\nc. 1 ; 975, c. 2 ; 977, c. 2; 981, c. 1 ; 982, c. 1 ; \\n983,0.2; 1002, c. 1; 1004, c. 2; 1052, c. 2; \\n\\n\\n\\n1250 \\n\\n\\n\\nGENERAL INDEX. \\n\\n\\n\\npunctuation of words in his writings, R.F. xlii., \\n\\ncapp. XXX., XXXI.; clxvii. 2 h, e; life of, by \\n\\nAmphilochius, dcccclx. 11 ; by Helladius, dcclix. \\n\\nn. 8, fr.; dcccclxviii. fr. ; notice of B. and his \\n\\nbrothers, Gregory Nyssen and Peter, p. 900, \\n\\nc. 2 ; commem. of, ccxxxvi. 2. \\n'"
      ]
     },
     "execution_count": 15,
     "metadata": {},
     "output_type": "execute_result"
    }
   ],
   "source": [
    "index_text[41558:45803]"
   ]
  },
  {
   "cell_type": "code",
   "execution_count": null,
   "metadata": {},
   "outputs": [],
   "source": [
    "sections = []\n",
    "section_pattern = re.compile(r'\\n[IVXL]{1,7}\\..*?(?=(\\n[IVXL]{1,7}\\.)|\\Z)', re.S|re.M|re.MULTILINE|re.DOTALL)\n",
    "for match in re.finditer(section_pattern, florence_txt):\n",
    "    sections.append(match.group())"
   ]
  },
  {
   "cell_type": "code",
   "execution_count": null,
   "metadata": {},
   "outputs": [],
   "source": [
    "first_section_items =[]\n",
    "item_pattern = re.compile(r'\\n\\d+\\..*?(?=(\\n\\d+\\.)|\\Z)', re.S|re.MULTILINE|re.DOTALL)\n",
    "for match in re.finditer(item_pattern, sections[1]):\n",
    "    first_section_items.append(match.group())"
   ]
  }
 ],
 "metadata": {
  "kernelspec": {
   "display_name": "Python 3",
   "language": "python",
   "name": "python3"
  },
  "language_info": {
   "codemirror_mode": {
    "name": "ipython",
    "version": 3
   },
   "file_extension": ".py",
   "mimetype": "text/x-python",
   "name": "python",
   "nbconvert_exporter": "python",
   "pygments_lexer": "ipython3",
   "version": "3.7.0"
  }
 },
 "nbformat": 4,
 "nbformat_minor": 2
}
