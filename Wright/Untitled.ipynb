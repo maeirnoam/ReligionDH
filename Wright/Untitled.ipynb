{
 "cells": [
  {
   "cell_type": "code",
   "execution_count": 16,
   "metadata": {},
   "outputs": [],
   "source": [
    "import pandas as pd\n",
    "import re"
   ]
  },
  {
   "cell_type": "code",
   "execution_count": 90,
   "metadata": {},
   "outputs": [],
   "source": [
    "text_file = open(\"Wright_Florence_1-7 (no pages).txt\", \"r\", encoding='utf-8')\n",
    "florence_txt = text_file.read()\n"
   ]
  },
  {
   "cell_type": "code",
   "execution_count": 91,
   "metadata": {},
   "outputs": [],
   "source": [
    "sections = []\n",
    "section_pattern = re.compile(r'\\n[IVXL]{1,7}\\..*?(?=(\\n[IVXL]{1,7}\\.)|\\Z)', re.S|re.M|re.MULTILINE|re.DOTALL)\n",
    "for match in re.finditer(section_pattern, florence_txt):\n",
    "    sections.append(match.group())"
   ]
  },
  {
   "cell_type": "code",
   "execution_count": 92,
   "metadata": {},
   "outputs": [
    {
     "data": {
      "text/plain": [
       "4"
      ]
     },
     "execution_count": 92,
     "metadata": {},
     "output_type": "execute_result"
    }
   ],
   "source": [
    "len(sections)"
   ]
  },
  {
   "cell_type": "code",
   "execution_count": 93,
   "metadata": {},
   "outputs": [],
   "source": [
    "first_section_items =[]\n",
    "item_pattern = re.compile(r'\\n\\d+\\..*?(?=(\\n\\d+\\.)|\\Z)', re.S|re.MULTILINE|re.DOTALL)\n",
    "for match in re.finditer(item_pattern, sections[1]):\n",
    "    first_section_items.append(match.group())"
   ]
  },
  {
   "cell_type": "code",
   "execution_count": 94,
   "metadata": {},
   "outputs": [
    {
     "data": {
      "text/plain": [
       "32"
      ]
     },
     "execution_count": 94,
     "metadata": {},
     "output_type": "execute_result"
    }
   ],
   "source": [
    "len(first_section_items)"
   ]
  },
  {
   "cell_type": "code",
   "execution_count": 95,
   "metadata": {},
   "outputs": [
    {
     "data": {
      "text/plain": [
       "'\\n15. Eustathius of Antioch: ܡܢ ܡܐܡܪܐ\\n\\n\\nܕܩܕܡ ܥܕܬܐ̣ . ܥܠ ܗ̇ܝ ܕܡܠܬܐ ܒܣܪܐ ܗܘܐ\\n\\n\\nfol. 34 a.\\n\\n'"
      ]
     },
     "execution_count": 95,
     "metadata": {},
     "output_type": "execute_result"
    }
   ],
   "source": [
    "first_section_items[14]"
   ]
  },
  {
   "cell_type": "code",
   "execution_count": 96,
   "metadata": {},
   "outputs": [
    {
     "name": "stdout",
     "output_type": "stream",
     "text": [
      "the name of the author is: Eustathius of Antioch\n",
      "item number: 15\n",
      "works: \n",
      "ܡܢ ܡܐܡܪܐܕܩܕܡ ܥܕܬܐ̣ . ܥܠ ܗ̇ܝ ܕܡܠܬܐ ܒܣܪܐ ܗܘܐfol. 34 a.\n"
     ]
    }
   ],
   "source": [
    "item_1 = first_section_items[14].split(\":\", 1)\n",
    "number_author=item_1[0].split(\".\")\n",
    "number = number_author[0].strip()\n",
    "author = number_author[1].strip()\n",
    "works=item_1[1].replace('\\n','').lstrip(' ')\n",
    "works.strip()\n",
    "print(\"the name of the author is: \"+ author +\"\\nitem number: \" + number + \"\\nworks: \\n\" +works)"
   ]
  },
  {
   "cell_type": "code",
   "execution_count": 97,
   "metadata": {},
   "outputs": [
    {
     "data": {
      "text/plain": [
       "['ܡܢ ܡܐܡܪܐܕܩܕܡ ܥܕܬܐ̣ . ܥܠ ܗ̇ܝ ܕܡܠܬܐ ܒܣܪܐ ܗܘܐfol. 34 a.']"
      ]
     },
     "execution_count": 97,
     "metadata": {},
     "output_type": "execute_result"
    }
   ],
   "source": [
    "author_texts = works.split(\";\")\n",
    "author_texts"
   ]
  },
  {
   "cell_type": "code",
   "execution_count": 98,
   "metadata": {},
   "outputs": [],
   "source": [
    "short_folios = re.compile(r'(fol[l.]+)', re.S|re.MULTILINE|re.DOTALL)\n",
    "long_folios = re.compile(r'(fol.?)([ 0-9abdn,]*)', re.S|re.MULTILINE|re.DOTALL)\n",
    "title_first = re.compile(r\"\"\"(.*?\\,)?  \n",
    "                                 \\s*\n",
    "                                 (fol[l.]+)\n",
    "                                 \\s*\n",
    "                                 ([0-9]+)\n",
    "                                 \\s*             \n",
    "                                 ([ab]+)   \n",
    "                                     .*? \n",
    "                                     (?=(\\,\\s*(fol[l.]+\\s*)?[0-9]+)|\\Z)\n",
    "                                 \"\"\", re.S|re.MULTILINE|re.DOTALL|re.VERBOSE)"
   ]
  },
  {
   "cell_type": "code",
   "execution_count": 99,
   "metadata": {
    "scrolled": true
   },
   "outputs": [
    {
     "name": "stdout",
     "output_type": "stream",
     "text": [
      "0\n",
      "1\n",
      "2\n",
      "3\n",
      "4\n",
      "5\n",
      "6\n",
      "7\n",
      "8\n",
      "9\n",
      "10\n",
      "11\n",
      "12\n",
      "13\n",
      "14\n",
      "15\n",
      "16\n",
      "17\n",
      "18\n",
      "19\n",
      "20\n",
      "21\n",
      "22\n",
      "23\n",
      "24\n",
      "25\n",
      "26\n",
      "27\n",
      "28\n",
      "29\n",
      "30\n",
      "31\n"
     ]
    }
   ],
   "source": [
    "bib = {}\n",
    "#get item details\n",
    "for i in range(len(first_section_items)):\n",
    "    print(i)\n",
    "    item = first_section_items[i].split(\":\", 1)\n",
    "    number_author=item[0].split(\".\")\n",
    "    number = number_author[0].strip()\n",
    "    author = number_author[1].strip()\n",
    "    works=item[1].replace('\\n','').lstrip(' ')\n",
    "    works.strip()\n",
    "    author_texts = works.split(\";\")\n",
    "    \n",
    "# get texts and folios\n",
    "    texts = {}\n",
    "    for text in author_texts:\n",
    "        if text.startswith(\"fol\"): #this means that the folioation is first and then the title\n",
    "            folios = re.search(long_folios, text).group()\n",
    "            title = text.strip(folios)\n",
    "            texts.update({title : folios.strip(foll)})    \n",
    "        else: # the order is title then folios\n",
    "            foll = re.search(short_folios, text).group()\n",
    "            title=text.split(foll)[0].strip()\n",
    "            folios=text.split(foll)[1].strip()\n",
    "            texts.update({title : folios})\n",
    "\n",
    "\n",
    "#     for x, y in texts.items():\n",
    "#         print(x)\n",
    "#         print(y)\n",
    "    \n",
    "    bib.update({author:texts})\n",
    "\n",
    "\n"
   ]
  },
  {
   "cell_type": "code",
   "execution_count": 100,
   "metadata": {},
   "outputs": [
    {
     "data": {
      "text/plain": [
       "{'Alexander of Mabug': {'ܡܢ ܐܝܠܝܢ ܕܟܬܝ̈ܒܢܠܗ ܠܘܬ ܝܘܚܢܢ ܕܐܢܛܝܘܟܝܐ̇. ܠܘܩܒܠܩܘܪܝܠܘܣ,': '37 b .'},\n",
       " 'Anatolius of Constantinople': {'': ' 46 a'},\n",
       " 'Andrew of Samosata': {'ܡܢ ܥܘ̣ܕܠܐܕܚܪܡܐ ܕܚܕܥܣܪ ,': '41 b.'},\n",
       " 'Anthimus of Constantinople': {'ܡܢܐܓܪܬܐ ܣܘܢܗܕܝܩܐ ܕܠܘܬ ܩܕܝܫܐ ܣܐܘܪܐ ,': '40 b.'},\n",
       " 'Antiochus of Etolemais': {'ܡܢ ܡܐܡܪܐܕܥܠ ܗ̇ܝ ܕܛܘܒܘܗܝ ܠܡ̇ܢ ܕܚܐܪ ܒ̇ܒܝܫܐ ,': '34 a.'},\n",
       " 'Athanasius': {'ܡܢ ܡܐܡܪܐ ܕܥܠܗܝܡܢܘܬܐ ,': '32 b',\n",
       "  'ܡܢ ܡܐܡܪܐ ܕܥܠܙܩܝܦܐ ,': '34 a',\n",
       "  'ܡܢ ܣ̇ܝܡܐ ܕܡܛܠܬܠܝܬܝܘܬܐ ܩܕܝܫܬܐ̣ . ܘܡܛܠ ܡܬܒܪܢܫܢܘܬܗ ܕܡܠܬܐ̣ . ܘܠܘܩܒܠ ܐܦܘܠܝܢܪ̈ܝܣܛܐ ,': '32 b , 33 a',\n",
       "  'ܡܢ ܣ̇ܝܡܐ ܕܥܠ ܡܬܒܣܪܢܘܬܗܕܡܠܬܐ̣ , as cited by Cyril,': '34 b',\n",
       "  'ܡܢ ܐܓܪܬܐ ܕܠܘܬ ܐܕܠܦ ܐܦܝܣܩܘܦܐ ܘܡܘܕܝܢܐ ,': '33 a',\n",
       "  'ܡܢ ܐܓܪܬܐ ܕܠܘܬ ܝܘܒܢܝܢܘܣܡ̇ܠܟܐ ,': '34 b.'},\n",
       " 'Basil': {'ܡܢ ܡܐܡܪܐ ܕܠܘܬ ܐܡܦܝܠܝܟܝܘܣܕܡܛܠ ܪܘܚܐ ܩܕܝܫܐ,': '34 a',\n",
       "  'ܡܢ  ܡܐܡܪܐܕܥܠ ܝܘܠܝܛܐ ܣܗܕܬܐ̣ ܘܠܘܩܒܠ ܐܦܘܠܝܢܪܝܘܣ ,': '34 a.'},\n",
       " 'Chrysostom': {'hom. ii. on S. John’sGospel,': '33 b',\n",
       "  'hom. i. on the epistle tothe Romans,': '33 b',\n",
       "  'hom. xxxviii. on1 Corinth,': '34 a',\n",
       "  'hom. viii. on Philip-pians,': '33 a',\n",
       "  'hom. iii. on Colossians,': '34 a',\n",
       "  'hom. ii. on Hebrews,': '33 a',\n",
       "  'ܡܢܡܐܡܪܐ ܕܥܠ ܒܝܬ ܝܠܕܐ ,': '33 b.'},\n",
       " 'The Council of Antioch, which deposed\\nPaul of Samosata': {'. 32 b, 33 a.The Council of Chalecdon: foll. 37 b, 38 a,45 b, 46 a.': ''},\n",
       " 'Cyril of Alexandria': {'ܡܢ ܦܘܫܩܐܕܐܘܢܓܠܝܘܢ ܕܡܬܝ . ܡܢ ܟܬܒܐ ܕܚܕܥܣܪ ,': '37 a',\n",
       "  'ܡܢ ܦܘܫܩܐ ܕܐܘܢܓܠܝܘܢ ܕܝܘܚܢܢ,': '37 a',\n",
       "  'ܡܢ ܛܘܡܣܐ ܕܐܪ̈ܒܥܐ̣ . ܕܡܛܠ ܐܓܪܬܐ ܕܥܒܪ̈ܝܐ,': '41 b',\n",
       "  'ܡܢ ܛܘܡܣܐܕܬܪ̈ܝܢ ܕܠܘܩܒܠ ܓܘܕ̈ܦܘܗܝ ܕܢܣܛܘܪܝܘܣ ,': '35 b, 36 a, 37 b, 40 b',\n",
       "  'ܡܢ ܡܐܡܪܐܕܬܪ̈ܝܢ ܕܠܘܬ ܬܐܘܕܪܘܣ ܕܡ̇ܡܣܝܣܛܐ ,': '33 b, 34 b, and marg.',\n",
       "  'ܡܢ ܡܐܡܪܐܕܠܘܬ ܕܝܕܘܪܘܣ,': '43 b',\n",
       "  'ܡܢ ܡܐܡܪܐ ܗ̇ܘ ܕܚܕ ܗܘ ܡܫܝܚܐ,': '35 b',\n",
       "  'ܡܢ ܡܐܡܪܐܕܐܝܟ ܕܒܫܘܐܠܐ ܘܦܘܢܝ ܦܬܓܡܐ ,': '34 b',\n",
       "  'ܡܢ ܪܘܫܡܐ ܕܣܟܘܠܝܘܢ ܕܝܐ̄ ,': '36 bܡܢ ܣܟܘܠܝܘܢ ܕܝܓ̄ ,',\n",
       "  'ܚܪܡܐ ܕܬܪ̈ܝܢ': '32 b, ܚܪܡܐ ܕܬܠܬܐ , foll. 32 b, 36 b',\n",
       "  'ܡܢ ܡܦܩ ܒܪܘܚܐ ܕܚܪܡܐ ܕܒ̄ ܕܠܘܩܒܠܬܐܘܕܪܝܛܐ ,': '32 b',\n",
       "  'ܡܢ ܡܦܩ ܒܪܘܚܐܕܚܪܡܐ ܕܓ̄ ܕܨܝܕ ܥ̈ܘܕܠܘܗܝ ܕܬܐܘܕܪܝܛܐ ,': '32 b, ܡܢ ܫ̇ܪܝܐ ܕܥܘ̈ܕܠܐ ܕܬܐܘܕܪܝܛܐܕܒܚܪܡܐ ܕܓ̄ ,',\n",
       "  'ܡܢ ܡܐܡܪܐ ܕܠܘܬ ܕܚ̇ܠ (προσφωνητικός) ܦܪܘܣܦܢܛܝܩܘܢܠܐܠܗܐ ܡ̇ܠܟܐ ܬܐܘܕܣܝܣ ,': '34 b, 43 b',\n",
       "  'ܡܢ ܐܓܪܬܐ ܕܠܘܬ ܐܩܩ ܐܦܝܣܩܘܦܐܕܡܝܠܝܛܝܢܐ ,': '34 a and b, 36 a',\n",
       "  'ܡܢ ܐܓܪܬܐ ܕܠܘܬ ܐܩܩ ܐܦܝܣ̄ ܕܣܩܘܬܦܘܠܝܣ .  (ἀποπομπαȋος) ܗ̇ܝ ܕܡܛܘܠ ܨܦܪܝܐ ܡܫܬܕܪܢܐ ,': '37 a',\n",
       "  'ܡܢ ܐܓܪܬܐ ܩܕܡܝܬܐܕܠܘܬ ܣܘܩܢܣܘܣ ,': '34 b, ܡܢ ܐܓܪܬܐ ܕܒ̄ , foll. 34 b, 35 a and b, 36 a, 42 a',\n",
       "  'ܡܢ ܐܓܪܬܐ ܕܠܘܬ ܐܘܠܓܝܘܣ ܩܫܝܫܐ ,': '34 b, 36 a',\n",
       "  'ܡܢ ܐܓܪܬܐ ܕܠܘܬ ܘܠܪܝܢܐܐܦܝܣܩܘܦܐ ,': '36 b',\n",
       "  'ܡܢ ܐܓܪܬܐ ܕܬܠܬ ܕܠܘܬ ܢܣܛܘܪܝܘܣ̣ ܕܒܗ̇ ܣܝܡ̣ܝܢ ܚܪ̈ܡܐ ,': '35 b.'},\n",
       " 'Dionysius the Areopagite': {'ܡܢ ܡܐܡܪܐܕܡܛܠ ܟܘ̈ܢܝܐ ܐ̈ܠܗܝܐ , ,': '32 b.'},\n",
       " 'Dioscorus of Alexandria': {'. 45 b,46 a.': ''},\n",
       " 'Ephraim Syrus': {'ܡܢ ܦܢܩܝܬܐ ܕܥܠܝܗܘ̈ܕܝܐ . ܡܢ ܡܕܪܫܐ ܕܥܠ ܩܠܐ ܕܛ̇ܘܒܝܟܝܐܦܪܬ ܀ ܕܪܝܫܗ̣ . ܪܥܝܢܝ ܛܥ̣ܝܢ ܟܠ ܦܘܚ̈ܡܝܢ ,': '34 a.'},\n",
       " 'Erechtheus, ܐܪܟܬܐܘܣ , bishop of\\nAntioch in Pisidia': {'ܡܢ ܬܘܪܓܡܐ ܕܐܡ̣ܪܒܒܝܬ ܕܢܚ̣ܐ ܒܥܕܬܐ ܪܒܬܐ ܕܩܘܣܛܢܛܝܢܘܦܘܠܝܣ . ܟܕ ܝ̇ܬܒ ܩܕܝܫܐ ܦܪܘܩܠܘܣ , ܐܦܝܣܩܘܦܐ ܕܝܠܗ̇ ܕܡܕܝܢܬܐ ,': '35 a'},\n",
       " 'Eustathius of Antioch': {'ܡܢ ܡܐܡܪܐܕܩܕܡ ܥܕܬܐ̣ . ܥܠ ܗ̇ܝ ܕܡܠܬܐ ܒܣܪܐ ܗܘܐ': '34 a.'},\n",
       " 'Eutyches': {'. 45 a and b.': ''},\n",
       " 'Gregory Nazianzen': {'ܡܢ ܡܐܡܪܐ ܕܥܠܡܥܡܘܕܝܬܐ ,': '33 a',\n",
       "  'ܡܢ ܡܐܡܪܐ ܕܥܠܦܨܚܐ ,': '33 b',\n",
       "  'ܡܢ ܡܐܡܪܐ ܕܥܠܩܒܘܪܬܗ ܕܩܕܝܫܐ ܒܣܝܠܝܘܣ ,': '34 a',\n",
       "  'ܡܢ ܡܐܡܪܐ ܕܥܠ ܪܚܡܬ ܡܣܟܢܘܬܐ  ,': '34 a',\n",
       "  'ܡܢ ܡܐܡܪܐ ܕܥܠ ܚܕܒܫܒܐ ܚܕܬܐ,': '34 a',\n",
       "  'ܡܢ ܐܓܪܬܐ ܩܕܡܝܬܐ ܕܠܘܬ ܩܠܝܕܘܢܝܘܣ,': '32 b, 41 b, ܡܢ ܐܓܪܬܐ ܕܒ̄,'},\n",
       " 'Gregory Nyssen': {'ܡܢ ܡܐܡܪܐ ܕܬܪ̈ܝܢܕܠܘܩܒܠ ܐܘܢܡܝܘܣ ,': '34 b.'},\n",
       " 'Gregory Thaumaturgus': {'ܡܢ ܗܝܡܢܘܬܐܕܒܡ̈ܢܘܬܐ ܕܒܐܝܕܐ ܒܐܝܕܐ ,': '34 b.'},\n",
       " 'Julius of Rome': {'ܡܢ ܐܝܠܝܢ ܕܠܘܬ ܗ̇ܢܘܢܕܠܘܩܒܠ ܡܬܓܫܡܢܘܬܐ ܐܠܗܝܬܐ ܡܬܟܬ̇ܫܝ̣ܢܒܥܠ̣ܬܐ ܕܗ̇ܝ ܕܒܪ ܟܝܢܐ ,': '35 a',\n",
       "  'ܡܢ   ܐܓܪܬܐ ܕܠܘܬ ܕܝܢܘܣܝܘܣ ܐܦܣܩܦܐܕܩܘܪܢܬܘܣ ,': '35 a.'},\n",
       " 'Justinian the Emperor': {'ܡܢ ܗܠܝܢܕܟܬ̣ܒ ܕܠܘܩܒܠ ܬܐܘܕܪܘܣ ܕܡܡܦܣܝܣܛܐ ,': '45 b.'},\n",
       " 'Leo of Rome': {'': ' 45 a', 'ܐܓܪܬܐܕܠܐܘܢ ܕܠܘܬ ܐܘܛܝܟܐ ,': '45 b.'},\n",
       " 'Maximus, ܡܟܣܝܡܐ, of Antioch': {'': ' 46 a'},\n",
       " 'Melito (Meletius of Antioch ?), ܕܩܕܝܫܐ\\n\\n\\nܡܝܠܝܛܘܢ ܐܦܝܣܩܘܦܐ ܕܐܝܛܝܩܐ ܡܕܝܢܬܐ': {'See Cureton, Spicileg. Syriac.,b. ܢܢ': ' 34 a'},\n",
       " 'Nestorius': {'ܡܢ ܐܓܪܬܗ ܕܠܘܬܬܐܘܕܪܝܛܐ̇ . ܕܒܗ̇ ܥ̇ܕܠ ܠܐܝܠܝܢ ܕܐܬܟܬܒܡܢ ܩܘܪܝܠܘܣ ܨܝܕ ܡܕ̈ܢܚܝܐ ,': '37 a',\n",
       "  'ܡܢ ܡܐܡܪܐ ܕܪܫܝܡ ܡܛܠ ܗܝܡܢܘܬܐ̣ ܐܘܟܝܬ ܣ̇ܝܡܐ ܕܗܝܡܢܘܬܐ  ,': '38 a.'},\n",
       " 'Peter of Alexandria': {'ܡܢ ܟܬܒܐ ܕܡܛܠ ܐܠܗܘܬܐ ,': '33 b.'},\n",
       " 'Philoxenus of Mabug': {'ܡܢ ܐܓܪܬܐܕܠܘܩܒܠ ܦܠܘܝܢܐ ܕܐܢܛܝܘܟܝܐ ,': '41 a',\n",
       "  'ܡܢ ܐܓܪܬܐ ܕܠܘܬ ܬܐܘܕܪܐ ܘܡܡܐܘܣ̇ܐܘܪܐ ܪ̈ܝܫܝ ܕܝܪ̈ܬܐ̣ . ܡܛܠ ܐܓܪܬܐ ܗ̇ܝܕܟܬܒ̣ ܦܠܘܝܢܐ ܕܐܢܛܝܘܟܝܐ̇ . ܠܘܬ ܒܗܝܠܐܡ̇ܠܟܐ . ܕܪܝܫܗܲ . ܩ̇ܒܠܬ ܐܦ ܗܫܐ ܐܓܪ̈ܬܐ ܬܪ̈ܬܝܢ ܡܢ ܪܚܡܬ ܐܠܗܐ ܕܒܟܘܢ  ,': '41 a.'},\n",
       " 'Probus': {'ܕܦܪܘܒܐ̣ ܡܢ ܟܪܛܝܣܐ ܗ̇ܘܕܥܒ̣ܕ ܒܙܢܐ ܠܡ ܕܬܘܕܝܬܐ̇ . ܘܝܗ̣ܒ ܠܐܢܣܛܣ ܪܝܫ ܡܘܬܒܐ ܕܐܢܛܝܘܟܝܐ ,': '38 a',\n",
       "  'ܡܢܟܪܛܝܣܐ ܗ̇ܘ ܕܝܗ̣ܒ ܒܣܢܗܕܘܣ ܒܐܢܛܝܘܟܝܐ̇ .ܟܕ ܝܬ̇ܒ ܓܪܝܓܘܪ ܦܛܪܝܪܟܐ̇ . ܘܥܡܗ ܝܒ̄ ܐܦܝܣܩ̈ܘܦܐ,': '38 b',\n",
       "  'ܡܢ ܟܪܛܝܣܐ ܕܫ̈ܬܐ ܕܠܘܩܒܠ ܕܝܪ̈ܝܐ ,': '38 b.'},\n",
       " 'Proclus of Constantinople': {'ܡܢܐܓܪܬܐ ܕܠܘܬ ܐܪ̈ܡܢܝܐ ,': '35 a, 41 b.'},\n",
       " 'Severus': {'ܡܢ ܡܐܡܪܐ ܕܠܘܩܒܠ ܓܪܡܛܝܩܘܣ,': '36 b, 37 a and b, 39 b, 40 a and b, 41 a and b, 42 a and b, 43 a,44 a and b, 45 a',\n",
       "  'ܡܢ ܦܝܠܠܬܝܣ,': '39 b,40 b',\n",
       "  'ܡܢ ܡܦܩ ܒܪܘܚܐ ܕܦܝܠܠܬܝܣ,': '38 b, 39 a and b, 43 b',\n",
       "  'ܡܢ ܡܐܡܪܐ ܕܬܪ̈ܝܢܕܠܘܬ ܢܦܠܐܘܣ . ܕܪܝܫܗ̣ . ܚܢܢ ܣܝ̇ܡܐ ܐܠܗܝܐܘܦܪܘܩܝܐ ,': '37 a, 41 b, 44 b',\n",
       "  'ܡܢ ܫ̇ܪܝܐܕܚܪܡܐ ܕܬܡ̈ܢܝܐ ܕܝܘܠܝܢܐ ,': '41 a',\n",
       "  'ܡܢܫ̇ܪܝܐ ܕܡܦܩ ܒܪܘܚܐ ܢܟܝ̣ܠܐ ܕܝܘܠܝܢܐ ܕܠܘܩܒܠܡ̈ܢܝܢܝܐ ,': '43 b',\n",
       "  'ܡܢ ܫ̇ܪܝܐ ܕܫܘܐܠܐ ܕܒ̄ܕܦܘܫܩܐ ܢܣܛܘܪܝܢܐ ,': '42 b',\n",
       "  'ܡܢ ܡܦܩ ܒܪܘܚܐ ܕܩܦܠܐܘܢ ܕܐܪ̈ܒܥܐ ܕܬܚ̈ܘܡܐ ,': '41 b',\n",
       "  '. ܡܢ ܐܓܪܬܐ ܕܠܘܬ ܡܪܘܢ . ܕܪܝܫܗܲܟܕ ܡܢ ܩܕܝܡ ܩ̇ܒܠܬ ܐܓܪܬܐ ܕܕܚܠܬ ܐܠܗܐܕܝܠܟ ,': '33 a',\n",
       "  'ܡܢ ܐܓܪܬܐ ܕܠܘܬ ܡܪܘܢܩܪܘܝܐ . ܕܪܝܫܗܲ ܟܕ ܢܥܡܢ ܗ̇ܘ ܣܘܪܝܝܐ,': '43 a',\n",
       "  'ܡܢ ܐܓܪܬܐ ܕܠܘܬ ܬܐܘܡܐ ܣܘܢܩܠܘܣܕܝܠܗ ,': '37 a, 44 a',\n",
       "  'ܡܢ ܫ̇ܪܝܐ ܐܘܟܝܬܡܦܩ ܒܪܘܚܐ ܕܬܒ̇ܥܬܐ̇ . ܕܗܠܝܢ ܕܐܫܬܕܪ ܠܗܡܢ ܬܐܘܡܐ ܣܘܢܩܠܘܣ ܕܝܠܗ,': '37 b',\n",
       "  '. ܡܢ ܐܓܪܬܐ ܩܕܡܝܬܐ ܕܠܘܬ ܣܪܓܝܣܓܪܡܛܝܩܘܣ ,': '38 b, 39 b, ܐܓܪܬܐ ܕܒ̄ ,',\n",
       "  'ܡܢ ܐܓܪܬܐ ܕܠܘܬ ܐܠܘܣܢܝܘܣ . ܕܪܝܫܗܲܒܐ̈ܓܘܢܐ ܕܕܪ̈ܐ,': '38 b, 39 a, 43 a',\n",
       "  'ܡܢ ܐܓܪܬܐ ܕܠܘܬ ܐܠܘܣܢܝܘܣ . ܕܪܝܫܗܲ ܐܝܟܢܐܕܐܬܚ̣ܙܝ ܡܘܫܐ ܪܒܐ,': '39 a, 40 b',\n",
       "  'ܡܢ ܐܓܪܬܐ ܕܚ̈ܡܫ ܕܠܘܬ ܕܠܘܬ ܐܝܩܘܡܢܝܘܣ ܕܪܝܫܗܲ . ܟܕ ܩ̇ܪܝܬ ܐܓܪܬܐ ܗ̇ܝ ܕܠܘܬ ܪܚ̇ܡܐܠܗܐ ܦܛܪܘܣ ܩܫܝܫܐ,': '40 b',\n",
       "  'ܡܢܐܓܪܬܐ ܣܘܢܗܕܝܩܐ ܕܠܘܬ ܩܕܝܫܐ ܐܢܬܡܝܣ,': '40 b',\n",
       "  '. ܡܢ ܐܓܪܬܐ ܕܠܘܬ ܚ̈ܡܨܝܐܕܪܝܫܗܲ . ܕܠܐ ܠܗ̇ܢܘܢ ܕܠܐ ܚܟܝܡܝܢܒܬܪ̈ܥܝܬܗܘܢ ,': '43 b',\n",
       "  'ܡܢ ܐܓܪܬܐܕܝܪ̈ܝܐ ܕܒܛܘܦܐ . ܕܪܝܫܗ̣̇ . ܟܕ ܐܓܪܬ ܐ ܕܪܚܡ̣ܬ ܐܠܗܐ ܕܝܠܟܘܢ ܩ̇ܪܝܬ ,': '44 b',\n",
       "  'ܡܢܐܓܪܬܐ ܕܠܘܬ ܣܪܓܝܣ ܐܣܝܐ ܣܘܦܝܣܛܐ': '45 b.'},\n",
       " 'Theodosius of Alexandria': {'ܡܢܐܓܪܬܐ ܣܘܢܗܕܝܩܐ ܕܠܘܬ ܦܘܠܐ,': '40 b.'},\n",
       " 'Theodotus of Ancyra': {'ܡܢ ܬܘܪܓܡܐܕܥܠ ܒܝܬ ܝܠܕܐ . ܕܐܡܪܗ̣ ܩܕܡ ܣܘܢܗܕܘܣ ,ܩܕܝܫܬܐ ܕܒܐܦܣܘܣ ܇ ܗ̇ܝ ܕܫ̣ܕܬ ܠܢܣܛܘܪܝܘܣ ,': '35 a.'}}"
      ]
     },
     "execution_count": 100,
     "metadata": {},
     "output_type": "execute_result"
    }
   ],
   "source": [
    "bib"
   ]
  },
  {
   "cell_type": "code",
   "execution_count": 101,
   "metadata": {},
   "outputs": [
    {
     "data": {
      "text/plain": [
       "dict_values(['36 b, 37 a and b, 39 b, 40 a and b, 41 a and b, 42 a and b, 43 a,44 a and b, 45 a', '39 b,40 b', '38 b, 39 a and b, 43 b', '37 a, 41 b, 44 b', '41 a', '43 b', '42 b', '41 b', '33 a', '43 a', '37 a, 44 a', '37 b', '38 b, 39 b, ܐܓܪܬܐ ܕܒ̄ ,', '38 b, 39 a, 43 a', '39 a, 40 b', '40 b', '40 b', '43 b', '44 b', '45 b.'])"
      ]
     },
     "execution_count": 101,
     "metadata": {},
     "output_type": "execute_result"
    }
   ],
   "source": [
    "bib[list(bib.keys())[-3]].values()"
   ]
  },
  {
   "cell_type": "code",
   "execution_count": null,
   "metadata": {},
   "outputs": [],
   "source": [
    "tr = pd.MultiIndex.from_frame()\n",
    "tr"
   ]
  },
  {
   "cell_type": "code",
   "execution_count": 107,
   "metadata": {},
   "outputs": [
    {
     "data": {
      "text/plain": [
       "MultiIndex([(                                                         'Alexander of Mabug',),\n",
       "            (                                                'Anatolius of Constantinople',),\n",
       "            (                                                         'Andrew of Samosata',),\n",
       "            (                                                 'Anthimus of Constantinople',),\n",
       "            (                                                     'Antiochus of Etolemais',),\n",
       "            (                                                                 'Athanasius',),\n",
       "            (                                                                      'Basil',),\n",
       "            (                                                                 'Chrysostom',),\n",
       "            (                    'The Council of Antioch, which deposed\\nPaul of Samosata',),\n",
       "            (                                                        'Cyril of Alexandria',),\n",
       "            (                                                   'Dionysius the Areopagite',),\n",
       "            (                                                    'Dioscorus of Alexandria',),\n",
       "            (                                                              'Ephraim Syrus',),\n",
       "            (                        'Erechtheus, ܐܪܟܬܐܘܣ , bishop of\\nAntioch in Pisidia',),\n",
       "            (                                                      'Eustathius of Antioch',),\n",
       "            (                                                                   'Eutyches',),\n",
       "            (                                                          'Gregory Nazianzen',),\n",
       "            (                                                             'Gregory Nyssen',),\n",
       "            (                                                       'Gregory Thaumaturgus',),\n",
       "            (                                                             'Julius of Rome',),\n",
       "            (                                                      'Justinian the Emperor',),\n",
       "            (                                                                'Leo of Rome',),\n",
       "            (                                                'Maximus, ܡܟܣܝܡܐ, of Antioch',),\n",
       "            ('Melito (Meletius of Antioch ?), ܕܩܕܝܫܐ\\n\\n\\nܡܝܠܝܛܘܢ ܐܦܝܣܩܘܦܐ ܕܐܝܛܝܩܐ ܡܕܝܢܬܐ',),\n",
       "            (                                                                  'Nestorius',),\n",
       "            (                                                        'Peter of Alexandria',),\n",
       "            (                                                        'Philoxenus of Mabug',),\n",
       "            (                                                                     'Probus',),\n",
       "            (                                                  'Proclus of Constantinople',),\n",
       "            (                                                                    'Severus',),\n",
       "            (                                                   'Theodosius of Alexandria',),\n",
       "            (                                                        'Theodotus of Ancyra',)],\n",
       "           )"
      ]
     },
     "execution_count": 107,
     "metadata": {},
     "output_type": "execute_result"
    }
   ],
   "source": [
    "df = pd.MultiIndex.from_arrays([list(bib.keys())])\n",
    "df"
   ]
  },
  {
   "cell_type": "code",
   "execution_count": 102,
   "metadata": {},
   "outputs": [
    {
     "name": "stdout",
     "output_type": "stream",
     "text": [
      "['35 a.']\n"
     ]
    }
   ],
   "source": [
    "texts = {}\n",
    "short_folios = re.compile(r'(\\bfol[l.]+)', re.S|re.MULTILINE|re.DOTALL)\n",
    "long_folios = re.compile(r'(fol.?)([ 0-9abdn,]*)', re.S|re.MULTILINE|re.DOTALL)\n",
    "for text in author_texts:\n",
    "    foll = re.search(short_folios, text).group()\n",
    "    if text.startswith(\"fol\"): #this means that the folioation is first and then the title\n",
    "        folios = re.search(long_folios, text).group()\n",
    "        title = text.strip(folios)\n",
    "        texts.update({title : folios.strip(foll)})    \n",
    "    else: # the order is title then folios\n",
    "        title=text.split(foll)[0].strip()\n",
    "        folios=text.split(foll)[1].strip()\n",
    "        texts.update({title : folios})\n",
    "    \n",
    "folios_pattern1 = re.compile(r\"\"\"\\s*             \n",
    "                                 ([0-9]+)\\s*([ab]+)   \n",
    "                                 .*? \n",
    "                                 (?=(\\,\\s*(fol[l.]+\\s*)?[0-9]+)|\\Z)\"\"\", re.VERBOSE|re.S|re.MULTILINE|re.DOTALL|re.X)\n",
    "\n",
    "for x, y in texts.items():\n",
    "        folios_of_text = []\n",
    "        iter = re.finditer(folios_pattern1, y)\n",
    "        for match in iter:\n",
    "            if \"and b\" in match.group(0):\n",
    "                repl = \"split\" + match.group(1) +\" b\"\n",
    "                temp = re.sub(\"and b\", repl, match.group(0))\n",
    "                temp = re.split(\"split\", temp)\n",
    "                folios_of_text.append(temp[0])\n",
    "                folios_of_text.append(temp[1])\n",
    "            else:\n",
    "                folios_of_text.append(match.group(0))\n",
    "        texts[x] = folios_of_text\n",
    "\n",
    "for x, y in texts.items():\n",
    "     print(y)\n",
    "        "
   ]
  },
  {
   "cell_type": "code",
   "execution_count": null,
   "metadata": {},
   "outputs": [],
   "source": []
  }
 ],
 "metadata": {
  "kernelspec": {
   "display_name": "Python 3",
   "language": "python",
   "name": "python3"
  },
  "language_info": {
   "codemirror_mode": {
    "name": "ipython",
    "version": 3
   },
   "file_extension": ".py",
   "mimetype": "text/x-python",
   "name": "python",
   "nbconvert_exporter": "python",
   "pygments_lexer": "ipython3",
   "version": "3.8.8"
  }
 },
 "nbformat": 4,
 "nbformat_minor": 2
}
