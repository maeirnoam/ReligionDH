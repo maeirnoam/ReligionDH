{
 "cells": [
  {
   "cell_type": "code",
   "execution_count": 1,
   "metadata": {},
   "outputs": [
    {
     "name": "stderr",
     "output_type": "stream",
     "text": [
      "C:\\Users\\noammaeir\\Downloads\\Anaconda\\lib\\site-packages\\ipykernel\\parentpoller.py:116: UserWarning: Parent poll failed.  If the frontend dies,\n",
      "                the kernel may be left running.  Please let us know\n",
      "                about your system (bitness, Python, etc.) at\n",
      "                ipython-dev@scipy.org\n",
      "  ipython-dev@scipy.org\"\"\")\n"
     ]
    }
   ],
   "source": [
    "import os\n",
    "import pandas as pd\n",
    "import matplotlib.pyplot as plt\n",
    "import xml.etree.ElementTree as ET"
   ]
  },
  {
   "cell_type": "code",
   "execution_count": 30,
   "metadata": {},
   "outputs": [
    {
     "name": "stderr",
     "output_type": "stream",
     "text": [
      "C:\\Users\\noammaeir\\Downloads\\Anaconda\\lib\\site-packages\\ipykernel_launcher.py:12: DeprecationWarning: The default dtype for empty Series will be 'object' instead of 'float64' in a future version. Specify a dtype explicitly to silence this warning.\n",
      "  if sys.path[0] == '':\n"
     ]
    }
   ],
   "source": [
    "folder = 'BL data' #path begins in root of project\n",
    "authors_list = []\n",
    "for filename in os.listdir(folder):\n",
    "    s= get_authors(folder, filename) \n",
    "    if s is not None:\n",
    "        authors_list.append(s)\n",
    "        "
   ]
  },
  {
   "cell_type": "code",
   "execution_count": 123,
   "metadata": {},
   "outputs": [
    {
     "data": {
      "text/html": [
       "<div>\n",
       "<style scoped>\n",
       "    .dataframe tbody tr th:only-of-type {\n",
       "        vertical-align: middle;\n",
       "    }\n",
       "\n",
       "    .dataframe tbody tr th {\n",
       "        vertical-align: top;\n",
       "    }\n",
       "\n",
       "    .dataframe thead th {\n",
       "        text-align: right;\n",
       "    }\n",
       "</style>\n",
       "<table border=\"1\" class=\"dataframe\">\n",
       "  <thead>\n",
       "    <tr style=\"text-align: right;\">\n",
       "      <th></th>\n",
       "      <th>0</th>\n",
       "      <th>1</th>\n",
       "      <th>2</th>\n",
       "      <th>3</th>\n",
       "      <th>4</th>\n",
       "      <th>5</th>\n",
       "      <th>6</th>\n",
       "      <th>7</th>\n",
       "      <th>8</th>\n",
       "      <th>9</th>\n",
       "      <th>...</th>\n",
       "      <th>96</th>\n",
       "      <th>97</th>\n",
       "      <th>98</th>\n",
       "      <th>99</th>\n",
       "      <th>100</th>\n",
       "      <th>101</th>\n",
       "      <th>102</th>\n",
       "      <th>103</th>\n",
       "      <th>104</th>\n",
       "      <th>105</th>\n",
       "    </tr>\n",
       "  </thead>\n",
       "  <tbody>\n",
       "    <tr>\n",
       "      <th>BL Add MS 12133 (1.xml)</th>\n",
       "      <td>NaN</td>\n",
       "      <td>NaN</td>\n",
       "      <td>NaN</td>\n",
       "      <td>NaN</td>\n",
       "      <td>NaN</td>\n",
       "      <td>NaN</td>\n",
       "      <td>NaN</td>\n",
       "      <td>NaN</td>\n",
       "      <td>NaN</td>\n",
       "      <td>NaN</td>\n",
       "      <td>...</td>\n",
       "      <td>NaN</td>\n",
       "      <td>NaN</td>\n",
       "      <td>NaN</td>\n",
       "      <td>NaN</td>\n",
       "      <td>NaN</td>\n",
       "      <td>NaN</td>\n",
       "      <td>NaN</td>\n",
       "      <td>NaN</td>\n",
       "      <td>NaN</td>\n",
       "      <td>NaN</td>\n",
       "    </tr>\n",
       "    <tr>\n",
       "      <th>BL Add MS 12178 (10.xml)</th>\n",
       "      <td>Solomon</td>\n",
       "      <td>Jesus the son of Sirach</td>\n",
       "      <td>NaN</td>\n",
       "      <td>NaN</td>\n",
       "      <td>NaN</td>\n",
       "      <td>NaN</td>\n",
       "      <td>NaN</td>\n",
       "      <td>NaN</td>\n",
       "      <td>NaN</td>\n",
       "      <td>NaN</td>\n",
       "      <td>...</td>\n",
       "      <td>NaN</td>\n",
       "      <td>NaN</td>\n",
       "      <td>NaN</td>\n",
       "      <td>NaN</td>\n",
       "      <td>NaN</td>\n",
       "      <td>NaN</td>\n",
       "      <td>NaN</td>\n",
       "      <td>NaN</td>\n",
       "      <td>NaN</td>\n",
       "      <td>NaN</td>\n",
       "    </tr>\n",
       "    <tr>\n",
       "      <th>BL Add MS 14438 (100.xml)</th>\n",
       "      <td>Ephraim</td>\n",
       "      <td>NaN</td>\n",
       "      <td>NaN</td>\n",
       "      <td>NaN</td>\n",
       "      <td>NaN</td>\n",
       "      <td>NaN</td>\n",
       "      <td>NaN</td>\n",
       "      <td>NaN</td>\n",
       "      <td>NaN</td>\n",
       "      <td>NaN</td>\n",
       "      <td>...</td>\n",
       "      <td>NaN</td>\n",
       "      <td>NaN</td>\n",
       "      <td>NaN</td>\n",
       "      <td>NaN</td>\n",
       "      <td>NaN</td>\n",
       "      <td>NaN</td>\n",
       "      <td>NaN</td>\n",
       "      <td>NaN</td>\n",
       "      <td>NaN</td>\n",
       "      <td>NaN</td>\n",
       "    </tr>\n",
       "    <tr>\n",
       "      <th>BL Add MS 17225 (1002.xml)</th>\n",
       "      <td>NaN</td>\n",
       "      <td>NaN</td>\n",
       "      <td>NaN</td>\n",
       "      <td>NaN</td>\n",
       "      <td>NaN</td>\n",
       "      <td>NaN</td>\n",
       "      <td>NaN</td>\n",
       "      <td>NaN</td>\n",
       "      <td>NaN</td>\n",
       "      <td>NaN</td>\n",
       "      <td>...</td>\n",
       "      <td>NaN</td>\n",
       "      <td>NaN</td>\n",
       "      <td>NaN</td>\n",
       "      <td>NaN</td>\n",
       "      <td>NaN</td>\n",
       "      <td>NaN</td>\n",
       "      <td>NaN</td>\n",
       "      <td>NaN</td>\n",
       "      <td>NaN</td>\n",
       "      <td>NaN</td>\n",
       "    </tr>\n",
       "    <tr>\n",
       "      <th>BL Add MS 17226 (1003.xml)</th>\n",
       "      <td>NaN</td>\n",
       "      <td>NaN</td>\n",
       "      <td>NaN</td>\n",
       "      <td>NaN</td>\n",
       "      <td>NaN</td>\n",
       "      <td>NaN</td>\n",
       "      <td>NaN</td>\n",
       "      <td>NaN</td>\n",
       "      <td>NaN</td>\n",
       "      <td>NaN</td>\n",
       "      <td>...</td>\n",
       "      <td>NaN</td>\n",
       "      <td>NaN</td>\n",
       "      <td>NaN</td>\n",
       "      <td>NaN</td>\n",
       "      <td>NaN</td>\n",
       "      <td>NaN</td>\n",
       "      <td>NaN</td>\n",
       "      <td>NaN</td>\n",
       "      <td>NaN</td>\n",
       "      <td>NaN</td>\n",
       "    </tr>\n",
       "  </tbody>\n",
       "</table>\n",
       "<p>5 rows × 106 columns</p>\n",
       "</div>"
      ],
      "text/plain": [
       "                                0                        1    2    3    4    \\\n",
       "BL Add MS 12133 (1.xml)         NaN                      NaN  NaN  NaN  NaN   \n",
       "BL Add MS 12178 (10.xml)    Solomon  Jesus the son of Sirach  NaN  NaN  NaN   \n",
       "BL Add MS 14438 (100.xml)   Ephraim                      NaN  NaN  NaN  NaN   \n",
       "BL Add MS 17225 (1002.xml)      NaN                      NaN  NaN  NaN  NaN   \n",
       "BL Add MS 17226 (1003.xml)      NaN                      NaN  NaN  NaN  NaN   \n",
       "\n",
       "                            5    6    7    8    9    ...  96   97   98   99   \\\n",
       "BL Add MS 12133 (1.xml)     NaN  NaN  NaN  NaN  NaN  ...  NaN  NaN  NaN  NaN   \n",
       "BL Add MS 12178 (10.xml)    NaN  NaN  NaN  NaN  NaN  ...  NaN  NaN  NaN  NaN   \n",
       "BL Add MS 14438 (100.xml)   NaN  NaN  NaN  NaN  NaN  ...  NaN  NaN  NaN  NaN   \n",
       "BL Add MS 17225 (1002.xml)  NaN  NaN  NaN  NaN  NaN  ...  NaN  NaN  NaN  NaN   \n",
       "BL Add MS 17226 (1003.xml)  NaN  NaN  NaN  NaN  NaN  ...  NaN  NaN  NaN  NaN   \n",
       "\n",
       "                            100  101  102  103  104  105  \n",
       "BL Add MS 12133 (1.xml)     NaN  NaN  NaN  NaN  NaN  NaN  \n",
       "BL Add MS 12178 (10.xml)    NaN  NaN  NaN  NaN  NaN  NaN  \n",
       "BL Add MS 14438 (100.xml)   NaN  NaN  NaN  NaN  NaN  NaN  \n",
       "BL Add MS 17225 (1002.xml)  NaN  NaN  NaN  NaN  NaN  NaN  \n",
       "BL Add MS 17226 (1003.xml)  NaN  NaN  NaN  NaN  NaN  NaN  \n",
       "\n",
       "[5 rows x 106 columns]"
      ]
     },
     "execution_count": 123,
     "metadata": {},
     "output_type": "execute_result"
    }
   ],
   "source": [
    "df = pd.DataFrame(authors_list)\n",
    "df.head(5)\n",
    "    "
   ]
  },
  {
   "cell_type": "code",
   "execution_count": 49,
   "metadata": {},
   "outputs": [],
   "source": [
    "for s in authors_list:\n",
    "    if s.name.count('12155')>0:\n",
    "        print(s)"
   ]
  },
  {
   "cell_type": "code",
   "execution_count": 29,
   "metadata": {},
   "outputs": [],
   "source": [
    "def get_authors(folder, filename): # e.g.:'BL data', '39.xml'\n",
    "    tree = ET.parse(f'{folder}/{filename}')\n",
    "    root = tree.getroot()\n",
    "    title = ''\n",
    "    for item in root.iter('{http://www.tei-c.org/ns/1.0}titleStmt'):\n",
    "        title=item[0].text\n",
    "    if title.startswith('BL Add MS'): #check the xml is of BL manuscript:\n",
    "        authors = []\n",
    "        for item in root.iter('{http://www.tei-c.org/ns/1.0}author'):\n",
    "            if item.text != 'William Wright' and item.text is not None:\n",
    "                authors.append(item.text)\n",
    "        s = pd.Series(authors, name=f'{title} ({filename})')\n",
    "        return s\n",
    "    \n",
    "\n",
    "\n",
    "        \n",
    "    "
   ]
  },
  {
   "cell_type": "code",
   "execution_count": 24,
   "metadata": {},
   "outputs": [],
   "source": [
    "tree = ET.parse('BL data/54.xml')\n",
    "root = tree.getroot()"
   ]
  },
  {
   "cell_type": "code",
   "execution_count": 25,
   "metadata": {},
   "outputs": [
    {
     "data": {
      "text/plain": [
       "'BL Add MS 12170'"
      ]
     },
     "execution_count": 25,
     "metadata": {},
     "output_type": "execute_result"
    }
   ],
   "source": [
    "title = ''\n",
    "for item in root.iter('{http://www.tei-c.org/ns/1.0}titleStmt'):\n",
    "    title=item[0].text\n",
    "title"
   ]
  },
  {
   "cell_type": "code",
   "execution_count": 31,
   "metadata": {},
   "outputs": [
    {
     "data": {
      "text/plain": [
       "['Isaiah of Scete',\n",
       " 'John Chrysostom',\n",
       " 'Palladius',\n",
       " '\\n                                    ',\n",
       " '\\n                                    ',\n",
       " '\\n                                    ',\n",
       " '\\n                                    ',\n",
       " '\\n                                    ',\n",
       " '\\n                                        ',\n",
       " '\\n                                        ',\n",
       " '\\n                                        ',\n",
       " 'Athanasius']"
      ]
     },
     "execution_count": 31,
     "metadata": {},
     "output_type": "execute_result"
    }
   ],
   "source": [
    "authors = []\n",
    "for item in root.iter('{http://www.tei-c.org/ns/1.0}author'):\n",
    "    if item.text != 'William Wright' and item.text is not None:\n",
    "        authors.append(item.text)\n",
    "    \n",
    "authors"
   ]
  },
  {
   "cell_type": "code",
   "execution_count": 27,
   "metadata": {},
   "outputs": [
    {
     "name": "stdout",
     "output_type": "stream",
     "text": [
      "DLXXV\n",
      "DCCLXXIV\n",
      "DCCLXXV\n"
     ]
    }
   ],
   "source": [
    "for item in root.iter('{http://www.tei-c.org/ns/1.0}idno'):\n",
    "        if 'type' in item.attrib.keys():\n",
    "            if 'Wright-BL-Roman' in item.attrib['type']:\n",
    "                print(item.text)            "
   ]
  },
  {
   "cell_type": "code",
   "execution_count": 33,
   "metadata": {},
   "outputs": [],
   "source": [
    "root.find('{http://www.tei-c.org/ns/1.0}idno')"
   ]
  },
  {
   "cell_type": "code",
   "execution_count": 34,
   "metadata": {},
   "outputs": [
    {
     "name": "stdout",
     "output_type": "stream",
     "text": [
      "{'ref': 'http://syriaca.org/person/548'}\n",
      "{'ref': 'http://syriaca.org/person/573'}\n",
      "{'ref': 'http://syriaca.org/person/668'}\n",
      "{'ref': 'http://syriaca.org/person/44'}\n",
      "{'ref': 'http://syriaca.org/person/44'}\n",
      "{}\n",
      "{'ref': 'http://syriaca.org/person/44'}\n",
      "{'ref': 'http://syriaca.org/person/430'}\n",
      "{}\n",
      "{'ref': 'http://syriaca.org/person/13'}\n",
      "{'ref': 'http://syriaca.org/person/513'}\n",
      "{'ref': 'http://syriaca.org/person/1014'}\n"
     ]
    }
   ],
   "source": [
    "for item in root.iter('{http://www.tei-c.org/ns/1.0}author'):\n",
    "    if item.text != 'William Wright' and item.text is not None:\n",
    "        print(item.attrib)\n",
    "    \n"
   ]
  },
  {
   "cell_type": "code",
   "execution_count": null,
   "metadata": {},
   "outputs": [],
   "source": []
  }
 ],
 "metadata": {
  "kernelspec": {
   "display_name": "Python 3",
   "language": "python",
   "name": "python3"
  },
  "language_info": {
   "codemirror_mode": {
    "name": "ipython",
    "version": 3
   },
   "file_extension": ".py",
   "mimetype": "text/x-python",
   "name": "python",
   "nbconvert_exporter": "python",
   "pygments_lexer": "ipython3",
   "version": "3.7.0"
  }
 },
 "nbformat": 4,
 "nbformat_minor": 5
}
